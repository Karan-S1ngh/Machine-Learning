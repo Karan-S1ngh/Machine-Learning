{
 "cells": [
  {
   "cell_type": "markdown",
   "metadata": {},
   "source": [
    "## Sample Code for Evaluating and Comparing Ensemble Methods"
   ]
  },
  {
   "cell_type": "code",
   "execution_count": 23,
   "metadata": {},
   "outputs": [],
   "source": [
    "from sklearn.ensemble import BaggingClassifier, RandomForestClassifier, GradientBoostingClassifier, AdaBoostClassifier\n",
    "from sklearn.tree import DecisionTreeClassifier\n",
    "from sklearn.datasets import load_iris\n",
    "from sklearn.model_selection import train_test_split, cross_val_predict\n",
    "from sklearn.metrics import accuracy_score, precision_score, recall_score, f1_score, roc_auc_score, confusion_matrix"
   ]
  },
  {
   "cell_type": "code",
   "execution_count": 24,
   "metadata": {},
   "outputs": [],
   "source": [
    "# Load Dataset\n",
    "iris = load_iris()\n",
    "x, y = iris.data, iris.target"
   ]
  },
  {
   "cell_type": "code",
   "execution_count": 25,
   "metadata": {},
   "outputs": [],
   "source": [
    "# Split Dataset into Training and Testing Sets\n",
    "x_train, x_test, y_train,y_test = train_test_split(x, y, test_size = 0.3, random_state = 42)"
   ]
  },
  {
   "cell_type": "code",
   "execution_count": 26,
   "metadata": {},
   "outputs": [],
   "source": [
    "# Initialize Matrix\n",
    "models = {\n",
    "    'Bagging': BaggingClassifier(DecisionTreeClassifier(), n_estimators = 50, random_state = 42),\n",
    "    'Random Forest': RandomForestClassifier(n_estimators = 50, random_state = 42),\n",
    "    'Gradient Boosting': GradientBoostingClassifier(n_estimators = 100, learning_rate = 0.1, max_depth = 3, random_state = 42),\n",
    "    'AdaBoost': AdaBoostClassifier(DecisionTreeClassifier(max_depth = 1), n_estimators = 50, learning_rate = 1.0, random_state = 42)\n",
    "}"
   ]
  },
  {
   "cell_type": "code",
   "execution_count": 27,
   "metadata": {},
   "outputs": [
    {
     "name": "stderr",
     "output_type": "stream",
     "text": [
      "c:\\Users\\Karan\\AppData\\Local\\Programs\\Python\\Python312\\Lib\\site-packages\\sklearn\\ensemble\\_weight_boosting.py:527: FutureWarning: The SAMME.R algorithm (the default) is deprecated and will be removed in 1.6. Use the SAMME algorithm to circumvent this warning.\n",
      "  warnings.warn(\n"
     ]
    }
   ],
   "source": [
    "# Train, Predict and Evaluate Each Model\n",
    "results = {}\n",
    "for model_name, model in models.items():\n",
    "    # Train the Model\n",
    "    model.fit(x_train, y_train)\n",
    "    \n",
    "    # Make Predictions\n",
    "    y_pred = model.predict(x_test)\n",
    "    \n",
    "    # Evaluate the model\n",
    "    accuracy = accuracy_score(y_test,y_pred)\n",
    "    precision = precision_score(y_test, y_pred, average = 'macro')\n",
    "    recall = recall_score(y_test, y_pred, average = 'macro') \n",
    "    f1 = f1_score(y_test, y_pred, average = 'macro')\n",
    "    roc_auc = roc_auc_score(y_test, model.predict_proba(x_test), multi_class = 'ovo', average = 'macro')\n",
    "    conf_matrix = confusion_matrix(y_test, y_pred) \n",
    "    \n",
    "    # Store the results\n",
    "    results[model_name] = {\n",
    "        'Accuracy': accuracy,\n",
    "        'Precision': precision,\n",
    "        'Recall': recall,\n",
    "        'F1 Score': f1,\n",
    "        'ROC AUC Score': roc_auc,\n",
    "        'Confusion Matrix': conf_matrix\n",
    "    } "
   ]
  },
  {
   "cell_type": "code",
   "execution_count": 28,
   "metadata": {},
   "outputs": [
    {
     "name": "stdout",
     "output_type": "stream",
     "text": [
      "Model: Bagging\n",
      "Accuracy: 1.00\n",
      "Precision: 1.00\n",
      "Recall: 1.00\n",
      "F1 Score: 1.00\n",
      "ROC AUC Score: 1.00\n",
      "Confusion Matrix:\n",
      " [[19  0  0]\n",
      " [ 0 13  0]\n",
      " [ 0  0 13]]\n",
      "\n",
      "\n",
      "Model: Random Forest\n",
      "Accuracy: 1.00\n",
      "Precision: 1.00\n",
      "Recall: 1.00\n",
      "F1 Score: 1.00\n",
      "ROC AUC Score: 1.00\n",
      "Confusion Matrix:\n",
      " [[19  0  0]\n",
      " [ 0 13  0]\n",
      " [ 0  0 13]]\n",
      "\n",
      "\n",
      "Model: Gradient Boosting\n",
      "Accuracy: 1.00\n",
      "Precision: 1.00\n",
      "Recall: 1.00\n",
      "F1 Score: 1.00\n",
      "ROC AUC Score: 1.00\n",
      "Confusion Matrix:\n",
      " [[19  0  0]\n",
      " [ 0 13  0]\n",
      " [ 0  0 13]]\n",
      "\n",
      "\n",
      "Model: AdaBoost\n",
      "Accuracy: 1.00\n",
      "Precision: 1.00\n",
      "Recall: 1.00\n",
      "F1 Score: 1.00\n",
      "ROC AUC Score: 1.00\n",
      "Confusion Matrix:\n",
      " [[19  0  0]\n",
      " [ 0 13  0]\n",
      " [ 0  0 13]]\n",
      "\n",
      "\n"
     ]
    }
   ],
   "source": [
    "# Print the Results\n",
    "for model_name, metrics in results.items():\n",
    "    print(f'Model: {model_name}')\n",
    "    for metric_name, metric_value in metrics.items():\n",
    "        if metric_name == 'Confusion Matrix':\n",
    "            print(f'{metric_name}:\\n {metric_value}')\n",
    "        else:\n",
    "            print(f'{metric_name}: {metric_value:.2f}')\n",
    "    print('\\n')"
   ]
  }
 ],
 "metadata": {
  "kernelspec": {
   "display_name": "Python 3",
   "language": "python",
   "name": "python3"
  },
  "language_info": {
   "codemirror_mode": {
    "name": "ipython",
    "version": 3
   },
   "file_extension": ".py",
   "mimetype": "text/x-python",
   "name": "python",
   "nbconvert_exporter": "python",
   "pygments_lexer": "ipython3",
   "version": "3.12.1"
  }
 },
 "nbformat": 4,
 "nbformat_minor": 2
}
